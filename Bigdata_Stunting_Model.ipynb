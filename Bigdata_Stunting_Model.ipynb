{
  "metadata": {
    "kernelspec": {
      "language": "python",
      "display_name": "Python 3",
      "name": "python3"
    },
    "language_info": {
      "name": "python",
      "version": "3.11.11",
      "mimetype": "text/x-python",
      "codemirror_mode": {
        "name": "ipython",
        "version": 3
      },
      "pygments_lexer": "ipython3",
      "nbconvert_exporter": "python",
      "file_extension": ".py"
    },
    "kaggle": {
      "accelerator": "gpu",
      "dataSources": [
        {
          "sourceId": 10733132,
          "sourceType": "datasetVersion",
          "datasetId": 6103625
        }
      ],
      "dockerImageVersionId": 31041,
      "isInternetEnabled": true,
      "language": "python",
      "sourceType": "notebook",
      "isGpuEnabled": true
    },
    "colab": {
      "provenance": [],
      "include_colab_link": true
    }
  },
  "nbformat_minor": 0,
  "nbformat": 4,
  "cells": [
    {
      "cell_type": "markdown",
      "metadata": {
        "id": "view-in-github",
        "colab_type": "text"
      },
      "source": [
        "<a href=\"https://colab.research.google.com/github/efrino/stunting-model/blob/main/Bigdata_Stunting_Model.ipynb\" target=\"_parent\"><img src=\"https://colab.research.google.com/assets/colab-badge.svg\" alt=\"Open In Colab\"/></a>"
      ]
    },
    {
      "cell_type": "code",
      "source": [
        "# Install dependensi yang diperlukan\n",
        "!pip install --upgrade scikit-learn\n",
        "!pip install imblearn tensorflow pandas numpy\n",
        "!pip install gdown"
      ],
      "metadata": {
        "_uuid": "8f2839f25d086af736a60e9eeb907d3b93b6e0e5",
        "_cell_guid": "b1076dfc-b9ad-4769-8c92-a6c4dae69d19",
        "trusted": true,
        "execution": {
          "iopub.status.busy": "2025-05-25T12:32:05.181727Z",
          "iopub.execute_input": "2025-05-25T12:32:05.181955Z",
          "iopub.status.idle": "2025-05-25T12:32:19.290992Z",
          "shell.execute_reply.started": "2025-05-25T12:32:05.181933Z",
          "shell.execute_reply": "2025-05-25T12:32:19.290043Z"
        },
        "colab": {
          "base_uri": "https://localhost:8080/"
        },
        "id": "tDUm9oShL43Q",
        "outputId": "894d9a7c-c47f-4903-df92-42f836b5ab38"
      },
      "outputs": [
        {
          "output_type": "stream",
          "name": "stdout",
          "text": [
            "Requirement already satisfied: scikit-learn in /usr/local/lib/python3.11/dist-packages (1.6.1)\n",
            "Collecting scikit-learn\n",
            "  Downloading scikit_learn-1.7.0-cp311-cp311-manylinux_2_17_x86_64.manylinux2014_x86_64.whl.metadata (17 kB)\n",
            "Requirement already satisfied: numpy>=1.22.0 in /usr/local/lib/python3.11/dist-packages (from scikit-learn) (2.0.2)\n",
            "Requirement already satisfied: scipy>=1.8.0 in /usr/local/lib/python3.11/dist-packages (from scikit-learn) (1.15.3)\n",
            "Requirement already satisfied: joblib>=1.2.0 in /usr/local/lib/python3.11/dist-packages (from scikit-learn) (1.5.1)\n",
            "Requirement already satisfied: threadpoolctl>=3.1.0 in /usr/local/lib/python3.11/dist-packages (from scikit-learn) (3.6.0)\n",
            "Downloading scikit_learn-1.7.0-cp311-cp311-manylinux_2_17_x86_64.manylinux2014_x86_64.whl (12.9 MB)\n",
            "\u001b[2K   \u001b[90m━━━━━━━━━━━━━━━━━━━━━━━━━━━━━━━━━━━━━━━━\u001b[0m \u001b[32m12.9/12.9 MB\u001b[0m \u001b[31m33.1 MB/s\u001b[0m eta \u001b[36m0:00:00\u001b[0m\n",
            "\u001b[?25hInstalling collected packages: scikit-learn\n",
            "  Attempting uninstall: scikit-learn\n",
            "    Found existing installation: scikit-learn 1.6.1\n",
            "    Uninstalling scikit-learn-1.6.1:\n",
            "      Successfully uninstalled scikit-learn-1.6.1\n",
            "\u001b[31mERROR: pip's dependency resolver does not currently take into account all the packages that are installed. This behaviour is the source of the following dependency conflicts.\n",
            "sklearn-compat 0.1.3 requires scikit-learn<1.7,>=1.2, but you have scikit-learn 1.7.0 which is incompatible.\u001b[0m\u001b[31m\n",
            "\u001b[0mSuccessfully installed scikit-learn-1.7.0\n",
            "Collecting imblearn\n",
            "  Downloading imblearn-0.0-py2.py3-none-any.whl.metadata (355 bytes)\n",
            "Requirement already satisfied: tensorflow in /usr/local/lib/python3.11/dist-packages (2.18.0)\n",
            "Requirement already satisfied: pandas in /usr/local/lib/python3.11/dist-packages (2.2.2)\n",
            "Requirement already satisfied: numpy in /usr/local/lib/python3.11/dist-packages (2.0.2)\n",
            "Requirement already satisfied: imbalanced-learn in /usr/local/lib/python3.11/dist-packages (from imblearn) (0.13.0)\n",
            "Requirement already satisfied: absl-py>=1.0.0 in /usr/local/lib/python3.11/dist-packages (from tensorflow) (1.4.0)\n",
            "Requirement already satisfied: astunparse>=1.6.0 in /usr/local/lib/python3.11/dist-packages (from tensorflow) (1.6.3)\n",
            "Requirement already satisfied: flatbuffers>=24.3.25 in /usr/local/lib/python3.11/dist-packages (from tensorflow) (25.2.10)\n",
            "Requirement already satisfied: gast!=0.5.0,!=0.5.1,!=0.5.2,>=0.2.1 in /usr/local/lib/python3.11/dist-packages (from tensorflow) (0.6.0)\n",
            "Requirement already satisfied: google-pasta>=0.1.1 in /usr/local/lib/python3.11/dist-packages (from tensorflow) (0.2.0)\n",
            "Requirement already satisfied: libclang>=13.0.0 in /usr/local/lib/python3.11/dist-packages (from tensorflow) (18.1.1)\n",
            "Requirement already satisfied: opt-einsum>=2.3.2 in /usr/local/lib/python3.11/dist-packages (from tensorflow) (3.4.0)\n",
            "Requirement already satisfied: packaging in /usr/local/lib/python3.11/dist-packages (from tensorflow) (24.2)\n",
            "Requirement already satisfied: protobuf!=4.21.0,!=4.21.1,!=4.21.2,!=4.21.3,!=4.21.4,!=4.21.5,<6.0.0dev,>=3.20.3 in /usr/local/lib/python3.11/dist-packages (from tensorflow) (5.29.5)\n",
            "Requirement already satisfied: requests<3,>=2.21.0 in /usr/local/lib/python3.11/dist-packages (from tensorflow) (2.32.3)\n",
            "Requirement already satisfied: setuptools in /usr/local/lib/python3.11/dist-packages (from tensorflow) (75.2.0)\n",
            "Requirement already satisfied: six>=1.12.0 in /usr/local/lib/python3.11/dist-packages (from tensorflow) (1.17.0)\n",
            "Requirement already satisfied: termcolor>=1.1.0 in /usr/local/lib/python3.11/dist-packages (from tensorflow) (3.1.0)\n",
            "Requirement already satisfied: typing-extensions>=3.6.6 in /usr/local/lib/python3.11/dist-packages (from tensorflow) (4.14.0)\n",
            "Requirement already satisfied: wrapt>=1.11.0 in /usr/local/lib/python3.11/dist-packages (from tensorflow) (1.17.2)\n",
            "Requirement already satisfied: grpcio<2.0,>=1.24.3 in /usr/local/lib/python3.11/dist-packages (from tensorflow) (1.73.0)\n",
            "Requirement already satisfied: tensorboard<2.19,>=2.18 in /usr/local/lib/python3.11/dist-packages (from tensorflow) (2.18.0)\n",
            "Requirement already satisfied: keras>=3.5.0 in /usr/local/lib/python3.11/dist-packages (from tensorflow) (3.8.0)\n",
            "Requirement already satisfied: h5py>=3.11.0 in /usr/local/lib/python3.11/dist-packages (from tensorflow) (3.14.0)\n",
            "Requirement already satisfied: ml-dtypes<0.5.0,>=0.4.0 in /usr/local/lib/python3.11/dist-packages (from tensorflow) (0.4.1)\n",
            "Requirement already satisfied: tensorflow-io-gcs-filesystem>=0.23.1 in /usr/local/lib/python3.11/dist-packages (from tensorflow) (0.37.1)\n",
            "Requirement already satisfied: python-dateutil>=2.8.2 in /usr/local/lib/python3.11/dist-packages (from pandas) (2.9.0.post0)\n",
            "Requirement already satisfied: pytz>=2020.1 in /usr/local/lib/python3.11/dist-packages (from pandas) (2025.2)\n",
            "Requirement already satisfied: tzdata>=2022.7 in /usr/local/lib/python3.11/dist-packages (from pandas) (2025.2)\n",
            "Requirement already satisfied: wheel<1.0,>=0.23.0 in /usr/local/lib/python3.11/dist-packages (from astunparse>=1.6.0->tensorflow) (0.45.1)\n",
            "Requirement already satisfied: rich in /usr/local/lib/python3.11/dist-packages (from keras>=3.5.0->tensorflow) (13.9.4)\n",
            "Requirement already satisfied: namex in /usr/local/lib/python3.11/dist-packages (from keras>=3.5.0->tensorflow) (0.1.0)\n",
            "Requirement already satisfied: optree in /usr/local/lib/python3.11/dist-packages (from keras>=3.5.0->tensorflow) (0.16.0)\n",
            "Requirement already satisfied: charset-normalizer<4,>=2 in /usr/local/lib/python3.11/dist-packages (from requests<3,>=2.21.0->tensorflow) (3.4.2)\n",
            "Requirement already satisfied: idna<4,>=2.5 in /usr/local/lib/python3.11/dist-packages (from requests<3,>=2.21.0->tensorflow) (3.10)\n",
            "Requirement already satisfied: urllib3<3,>=1.21.1 in /usr/local/lib/python3.11/dist-packages (from requests<3,>=2.21.0->tensorflow) (2.4.0)\n",
            "Requirement already satisfied: certifi>=2017.4.17 in /usr/local/lib/python3.11/dist-packages (from requests<3,>=2.21.0->tensorflow) (2025.6.15)\n",
            "Requirement already satisfied: markdown>=2.6.8 in /usr/local/lib/python3.11/dist-packages (from tensorboard<2.19,>=2.18->tensorflow) (3.8.2)\n",
            "Requirement already satisfied: tensorboard-data-server<0.8.0,>=0.7.0 in /usr/local/lib/python3.11/dist-packages (from tensorboard<2.19,>=2.18->tensorflow) (0.7.2)\n",
            "Requirement already satisfied: werkzeug>=1.0.1 in /usr/local/lib/python3.11/dist-packages (from tensorboard<2.19,>=2.18->tensorflow) (3.1.3)\n",
            "Requirement already satisfied: scipy<2,>=1.10.1 in /usr/local/lib/python3.11/dist-packages (from imbalanced-learn->imblearn) (1.15.3)\n",
            "Requirement already satisfied: scikit-learn<2,>=1.3.2 in /usr/local/lib/python3.11/dist-packages (from imbalanced-learn->imblearn) (1.7.0)\n",
            "Requirement already satisfied: sklearn-compat<1,>=0.1 in /usr/local/lib/python3.11/dist-packages (from imbalanced-learn->imblearn) (0.1.3)\n",
            "Requirement already satisfied: joblib<2,>=1.1.1 in /usr/local/lib/python3.11/dist-packages (from imbalanced-learn->imblearn) (1.5.1)\n",
            "Requirement already satisfied: threadpoolctl<4,>=2.0.0 in /usr/local/lib/python3.11/dist-packages (from imbalanced-learn->imblearn) (3.6.0)\n",
            "Collecting scikit-learn<2,>=1.3.2 (from imbalanced-learn->imblearn)\n",
            "  Downloading scikit_learn-1.6.1-cp311-cp311-manylinux_2_17_x86_64.manylinux2014_x86_64.whl.metadata (18 kB)\n",
            "Requirement already satisfied: MarkupSafe>=2.1.1 in /usr/local/lib/python3.11/dist-packages (from werkzeug>=1.0.1->tensorboard<2.19,>=2.18->tensorflow) (3.0.2)\n",
            "Requirement already satisfied: markdown-it-py>=2.2.0 in /usr/local/lib/python3.11/dist-packages (from rich->keras>=3.5.0->tensorflow) (3.0.0)\n",
            "Requirement already satisfied: pygments<3.0.0,>=2.13.0 in /usr/local/lib/python3.11/dist-packages (from rich->keras>=3.5.0->tensorflow) (2.19.2)\n",
            "Requirement already satisfied: mdurl~=0.1 in /usr/local/lib/python3.11/dist-packages (from markdown-it-py>=2.2.0->rich->keras>=3.5.0->tensorflow) (0.1.2)\n",
            "Downloading imblearn-0.0-py2.py3-none-any.whl (1.9 kB)\n",
            "Downloading scikit_learn-1.6.1-cp311-cp311-manylinux_2_17_x86_64.manylinux2014_x86_64.whl (13.5 MB)\n",
            "\u001b[2K   \u001b[90m━━━━━━━━━━━━━━━━━━━━━━━━━━━━━━━━━━━━━━━━\u001b[0m \u001b[32m13.5/13.5 MB\u001b[0m \u001b[31m72.8 MB/s\u001b[0m eta \u001b[36m0:00:00\u001b[0m\n",
            "\u001b[?25hInstalling collected packages: scikit-learn, imblearn\n",
            "  Attempting uninstall: scikit-learn\n",
            "    Found existing installation: scikit-learn 1.7.0\n",
            "    Uninstalling scikit-learn-1.7.0:\n",
            "      Successfully uninstalled scikit-learn-1.7.0\n",
            "Successfully installed imblearn-0.0 scikit-learn-1.6.1\n",
            "Requirement already satisfied: gdown in /usr/local/lib/python3.11/dist-packages (5.2.0)\n",
            "Requirement already satisfied: beautifulsoup4 in /usr/local/lib/python3.11/dist-packages (from gdown) (4.13.4)\n",
            "Requirement already satisfied: filelock in /usr/local/lib/python3.11/dist-packages (from gdown) (3.18.0)\n",
            "Requirement already satisfied: requests[socks] in /usr/local/lib/python3.11/dist-packages (from gdown) (2.32.3)\n",
            "Requirement already satisfied: tqdm in /usr/local/lib/python3.11/dist-packages (from gdown) (4.67.1)\n",
            "Requirement already satisfied: soupsieve>1.2 in /usr/local/lib/python3.11/dist-packages (from beautifulsoup4->gdown) (2.7)\n",
            "Requirement already satisfied: typing-extensions>=4.0.0 in /usr/local/lib/python3.11/dist-packages (from beautifulsoup4->gdown) (4.14.0)\n",
            "Requirement already satisfied: charset-normalizer<4,>=2 in /usr/local/lib/python3.11/dist-packages (from requests[socks]->gdown) (3.4.2)\n",
            "Requirement already satisfied: idna<4,>=2.5 in /usr/local/lib/python3.11/dist-packages (from requests[socks]->gdown) (3.10)\n",
            "Requirement already satisfied: urllib3<3,>=1.21.1 in /usr/local/lib/python3.11/dist-packages (from requests[socks]->gdown) (2.4.0)\n",
            "Requirement already satisfied: certifi>=2017.4.17 in /usr/local/lib/python3.11/dist-packages (from requests[socks]->gdown) (2025.6.15)\n",
            "Requirement already satisfied: PySocks!=1.5.7,>=1.5.6 in /usr/local/lib/python3.11/dist-packages (from requests[socks]->gdown) (1.7.1)\n"
          ]
        }
      ],
      "execution_count": null
    },
    {
      "cell_type": "code",
      "source": [
        "# Import library yang diperlukan\n",
        "import numpy as np\n",
        "import pandas as pd\n",
        "from sklearn.model_selection import train_test_split\n",
        "from sklearn.preprocessing import StandardScaler\n",
        "from sklearn.metrics import f1_score\n",
        "import tensorflow as tf\n",
        "from tensorflow.keras.models import Sequential\n",
        "from tensorflow.keras.layers import Dense\n",
        "import kagglehub\n",
        "import os\n",
        "import gdown"
      ],
      "metadata": {
        "trusted": true,
        "execution": {
          "iopub.status.busy": "2025-05-25T12:32:19.293152Z",
          "iopub.execute_input": "2025-05-25T12:32:19.293465Z",
          "iopub.status.idle": "2025-05-25T12:32:33.403174Z",
          "shell.execute_reply.started": "2025-05-25T12:32:19.293434Z",
          "shell.execute_reply": "2025-05-25T12:32:33.402547Z"
        },
        "id": "nOJGUlYzL43V"
      },
      "outputs": [],
      "execution_count": null
    },
    {
      "cell_type": "code",
      "source": [
        "# ID folder Drive\n",
        "dataTambahan = \"https://drive.google.com/drive/folders/1dGGbMwIlqDw_OPVvotY2WuNCY3dYsDi8?usp=sharing\"\n",
        "gdown.download_folder(dataTambahan, quiet=False, use_cookies=False)"
      ],
      "metadata": {
        "trusted": true,
        "execution": {
          "iopub.status.busy": "2025-05-25T12:32:33.403962Z",
          "iopub.execute_input": "2025-05-25T12:32:33.404564Z",
          "iopub.status.idle": "2025-05-25T12:33:05.429077Z",
          "shell.execute_reply.started": "2025-05-25T12:32:33.404538Z",
          "shell.execute_reply": "2025-05-25T12:33:05.428489Z"
        },
        "colab": {
          "base_uri": "https://localhost:8080/"
        },
        "id": "-NF00WfTL43X",
        "outputId": "90f35ee6-2bf5-4a9b-dea5-5ed2261fd319"
      },
      "outputs": [
        {
          "output_type": "stream",
          "name": "stderr",
          "text": [
            "Retrieving folder contents\n"
          ]
        },
        {
          "output_type": "stream",
          "name": "stdout",
          "text": [
            "Processing file 1uY8OMPJ7XgJ3G2pul8xp9cTKpjDf_7Fk bnba_juni_2024.csv\n",
            "Processing file 1WmcqhaHjRWSV6f2y8wY1fA90SHEwcbex daftar-balita-stunting-bulan-mei-2024-kalinyamat.csv\n",
            "Processing file 1EIJQ9PGDaNrEpQUV7eor0kVUcmf-vVaU daftar-balita-stunting-bulan-mei-2024-margadana.csv\n",
            "Processing file 1O3kuUPICkBZHn4gkxwrxlVMXlsCCoGMQ daftar-balita-stunting-bulan-mei-2024-pesurungan.csv\n",
            "Processing file 1L0eXrD8lrpNg-w8G7gT8t2e3n_fBk3_k daftar-balita-stunting-bulan-mei-2024-sumurpanggang.csv\n",
            "Processing file 1rZlU0TWDOJNL8Glur3v1Z_o0GhIHyPFv data_stunting_debong_kulon.csv\n"
          ]
        },
        {
          "output_type": "stream",
          "name": "stderr",
          "text": [
            "Retrieving folder contents completed\n",
            "Building directory structure\n",
            "Building directory structure completed\n",
            "Downloading...\n",
            "From: https://drive.google.com/uc?id=1uY8OMPJ7XgJ3G2pul8xp9cTKpjDf_7Fk\n",
            "To: /content/DatasetTugasBesar/bnba_juni_2024.csv\n",
            "100%|██████████| 4.96k/4.96k [00:00<00:00, 11.4MB/s]\n",
            "Downloading...\n",
            "From: https://drive.google.com/uc?id=1WmcqhaHjRWSV6f2y8wY1fA90SHEwcbex\n",
            "To: /content/DatasetTugasBesar/daftar-balita-stunting-bulan-mei-2024-kalinyamat.csv\n",
            "100%|██████████| 1.15k/1.15k [00:00<00:00, 3.47MB/s]\n",
            "Downloading...\n",
            "From: https://drive.google.com/uc?id=1EIJQ9PGDaNrEpQUV7eor0kVUcmf-vVaU\n",
            "To: /content/DatasetTugasBesar/daftar-balita-stunting-bulan-mei-2024-margadana.csv\n",
            "100%|██████████| 3.14k/3.14k [00:00<00:00, 6.21MB/s]\n",
            "Downloading...\n",
            "From: https://drive.google.com/uc?id=1O3kuUPICkBZHn4gkxwrxlVMXlsCCoGMQ\n",
            "To: /content/DatasetTugasBesar/daftar-balita-stunting-bulan-mei-2024-pesurungan.csv\n",
            "100%|██████████| 1.43k/1.43k [00:00<00:00, 4.19MB/s]\n",
            "Downloading...\n",
            "From: https://drive.google.com/uc?id=1L0eXrD8lrpNg-w8G7gT8t2e3n_fBk3_k\n",
            "To: /content/DatasetTugasBesar/daftar-balita-stunting-bulan-mei-2024-sumurpanggang.csv\n",
            "100%|██████████| 1.02k/1.02k [00:00<00:00, 3.60MB/s]\n",
            "Downloading...\n",
            "From: https://drive.google.com/uc?id=1rZlU0TWDOJNL8Glur3v1Z_o0GhIHyPFv\n",
            "To: /content/DatasetTugasBesar/data_stunting_debong_kulon.csv\n",
            "100%|██████████| 2.12k/2.12k [00:00<00:00, 6.68MB/s]\n",
            "Download completed\n"
          ]
        },
        {
          "output_type": "execute_result",
          "data": {
            "text/plain": [
              "['/content/DatasetTugasBesar/bnba_juni_2024.csv',\n",
              " '/content/DatasetTugasBesar/daftar-balita-stunting-bulan-mei-2024-kalinyamat.csv',\n",
              " '/content/DatasetTugasBesar/daftar-balita-stunting-bulan-mei-2024-margadana.csv',\n",
              " '/content/DatasetTugasBesar/daftar-balita-stunting-bulan-mei-2024-pesurungan.csv',\n",
              " '/content/DatasetTugasBesar/daftar-balita-stunting-bulan-mei-2024-sumurpanggang.csv',\n",
              " '/content/DatasetTugasBesar/data_stunting_debong_kulon.csv']"
            ]
          },
          "metadata": {},
          "execution_count": 3
        }
      ],
      "execution_count": null
    },
    {
      "cell_type": "code",
      "source": [
        "folder_path = 'DatasetTugasBesar'\n",
        "csv_files = [f for f in os.listdir(folder_path) if f.endswith('.csv')]\n",
        "\n",
        "# Gabungkan semua CSV\n",
        "df_list = [pd.read_csv(os.path.join(folder_path, f)) for f in csv_files]\n",
        "gabungan = pd.concat(df_list, ignore_index=True)\n",
        "\n",
        "# Simpan ke satu file\n",
        "gabungan.to_csv('data_tambahan.csv', index=False)\n",
        "print(\"✅ Data berhasil digabung ke 'data_tambahan.csv'\")"
      ],
      "metadata": {
        "trusted": true,
        "execution": {
          "iopub.status.busy": "2025-05-25T12:33:05.429791Z",
          "iopub.execute_input": "2025-05-25T12:33:05.430053Z",
          "iopub.status.idle": "2025-05-25T12:33:05.456219Z",
          "shell.execute_reply.started": "2025-05-25T12:33:05.430028Z",
          "shell.execute_reply": "2025-05-25T12:33:05.455472Z"
        },
        "colab": {
          "base_uri": "https://localhost:8080/"
        },
        "id": "jH-ItFnFL43Y",
        "outputId": "19b01577-5f56-440c-a1c8-04e3ab13d391"
      },
      "outputs": [
        {
          "output_type": "stream",
          "name": "stdout",
          "text": [
            "✅ Data berhasil digabung ke 'data_tambahan.csv'\n"
          ]
        }
      ],
      "execution_count": null
    },
    {
      "cell_type": "code",
      "source": [
        "# ID folder Drive\n",
        "dataWasting = \"https://drive.google.com/drive/folders/1cJu3a2jsNa_AglN07m_9vAGkm4efXC19?usp=sharing\"\n",
        "gdown.download_folder(dataWasting, quiet=False, use_cookies=False)"
      ],
      "metadata": {
        "colab": {
          "base_uri": "https://localhost:8080/"
        },
        "id": "2pTljb50N1sM",
        "outputId": "e58b1820-b4be-46ad-d41a-e3282e970ec6"
      },
      "execution_count": null,
      "outputs": [
        {
          "output_type": "stream",
          "name": "stderr",
          "text": [
            "Retrieving folder contents\n"
          ]
        },
        {
          "output_type": "stream",
          "name": "stdout",
          "text": [
            "Processing file 139IN-2Z5WMLFTt0Fju4503CyX_yVTIWg stunting_wasting_dataset.csv\n"
          ]
        },
        {
          "output_type": "stream",
          "name": "stderr",
          "text": [
            "Retrieving folder contents completed\n",
            "Building directory structure\n",
            "Building directory structure completed\n",
            "Downloading...\n",
            "From: https://drive.google.com/uc?id=139IN-2Z5WMLFTt0Fju4503CyX_yVTIWg\n",
            "To: /content/DatasetStunting/stunting_wasting_dataset.csv\n",
            "100%|██████████| 4.64M/4.64M [00:00<00:00, 57.4MB/s]\n",
            "Download completed\n"
          ]
        },
        {
          "output_type": "execute_result",
          "data": {
            "text/plain": [
              "['/content/DatasetStunting/stunting_wasting_dataset.csv']"
            ]
          },
          "metadata": {},
          "execution_count": 5
        }
      ]
    },
    {
      "cell_type": "code",
      "source": [
        "df1 = pd.read_csv('./DatasetStunting/stunting_wasting_dataset.csv')\n",
        "df2 = pd.read_csv('data_tambahan.csv')"
      ],
      "metadata": {
        "trusted": true,
        "execution": {
          "iopub.status.busy": "2025-05-25T12:33:05.456990Z",
          "iopub.execute_input": "2025-05-25T12:33:05.457299Z",
          "iopub.status.idle": "2025-05-25T12:33:05.590219Z",
          "shell.execute_reply.started": "2025-05-25T12:33:05.457276Z",
          "shell.execute_reply": "2025-05-25T12:33:05.589635Z"
        },
        "id": "VKL5lZ3RL43a"
      },
      "outputs": [],
      "execution_count": null
    },
    {
      "cell_type": "code",
      "source": [
        "df = pd.concat([df1, df2], ignore_index=True)"
      ],
      "metadata": {
        "trusted": true,
        "execution": {
          "iopub.status.busy": "2025-05-25T12:33:05.590869Z",
          "iopub.execute_input": "2025-05-25T12:33:05.591132Z",
          "iopub.status.idle": "2025-05-25T12:33:05.606017Z",
          "shell.execute_reply.started": "2025-05-25T12:33:05.591112Z",
          "shell.execute_reply": "2025-05-25T12:33:05.605383Z"
        },
        "id": "Zj10rQPoL43b"
      },
      "outputs": [],
      "execution_count": null
    },
    {
      "cell_type": "code",
      "source": [
        "# Tampilkan informasi dataset\n",
        "print(\"Kolom dataset:\", df.columns)\n",
        "print(\"Contoh data:\\n\", df.head())\n",
        "print(\"Jumlah baris sebelum preprocessing:\", len(df))\n",
        "print(\"Missing values:\\n\", df.isnull().sum())"
      ],
      "metadata": {
        "trusted": true,
        "execution": {
          "iopub.status.busy": "2025-05-25T12:33:05.608312Z",
          "iopub.execute_input": "2025-05-25T12:33:05.608530Z",
          "iopub.status.idle": "2025-05-25T12:33:05.644263Z",
          "shell.execute_reply.started": "2025-05-25T12:33:05.608514Z",
          "shell.execute_reply": "2025-05-25T12:33:05.643566Z"
        },
        "colab": {
          "base_uri": "https://localhost:8080/"
        },
        "id": "qGVBieOYL43b",
        "outputId": "0169c949-3939-43be-a277-ab3f1dd38f78"
      },
      "outputs": [
        {
          "output_type": "stream",
          "name": "stdout",
          "text": [
            "Kolom dataset: Index(['Jenis Kelamin', 'Umur (bulan)', 'Tinggi Badan (cm)',\n",
            "       'Berat Badan (kg)', 'Stunting', 'Wasting'],\n",
            "      dtype='object')\n",
            "Contoh data:\n",
            "   Jenis Kelamin  Umur (bulan) Tinggi Badan (cm) Berat Badan (kg)  \\\n",
            "0     Laki-laki          19.0              91.6             13.3   \n",
            "1     Laki-laki          20.0              77.7              8.5   \n",
            "2     Laki-laki          10.0              79.0             10.3   \n",
            "3     Perempuan           2.0              50.3              8.3   \n",
            "4     Perempuan           5.0              56.4             10.9   \n",
            "\n",
            "           Stunting             Wasting  \n",
            "0              Tall  Risk of Overweight  \n",
            "1           Stunted         Underweight  \n",
            "2            Normal  Risk of Overweight  \n",
            "3  Severely Stunted  Risk of Overweight  \n",
            "4  Severely Stunted  Risk of Overweight  \n",
            "Jumlah baris sebelum preprocessing: 100304\n",
            "Missing values:\n",
            " Jenis Kelamin         0\n",
            "Umur (bulan)         54\n",
            "Tinggi Badan (cm)    50\n",
            "Berat Badan (kg)     38\n",
            "Stunting              0\n",
            "Wasting               0\n",
            "dtype: int64\n"
          ]
        }
      ],
      "execution_count": null
    },
    {
      "cell_type": "code",
      "source": [
        "# Pembersihan data\n",
        "df = df.dropna()  # Hapus missing values\n",
        "print(\"Jumlah baris setelah dropna:\", len(df))"
      ],
      "metadata": {
        "trusted": true,
        "execution": {
          "iopub.status.busy": "2025-05-25T12:33:05.645034Z",
          "iopub.execute_input": "2025-05-25T12:33:05.645344Z",
          "iopub.status.idle": "2025-05-25T12:33:05.678123Z",
          "shell.execute_reply.started": "2025-05-25T12:33:05.645324Z",
          "shell.execute_reply": "2025-05-25T12:33:05.677521Z"
        },
        "colab": {
          "base_uri": "https://localhost:8080/"
        },
        "id": "Q5QbWHqKL43c",
        "outputId": "2697ad70-12bd-4d5a-9495-6373a5d6ed8b"
      },
      "outputs": [
        {
          "output_type": "stream",
          "name": "stdout",
          "text": [
            "Jumlah baris setelah dropna: 100250\n"
          ]
        }
      ],
      "execution_count": null
    },
    {
      "cell_type": "code",
      "source": [
        "# Encoding kolom kategorikal\n",
        "# Jenis Kelamin: Laki-laki -> 0, Perempuan -> 1\n",
        "df['Jenis Kelamin'] = df['Jenis Kelamin'].map({'Laki-laki': 0, 'Perempuan': 1})"
      ],
      "metadata": {
        "trusted": true,
        "execution": {
          "iopub.status.busy": "2025-05-25T12:33:05.678845Z",
          "iopub.execute_input": "2025-05-25T12:33:05.679077Z",
          "iopub.status.idle": "2025-05-25T12:33:05.692712Z",
          "shell.execute_reply.started": "2025-05-25T12:33:05.679059Z",
          "shell.execute_reply": "2025-05-25T12:33:05.691998Z"
        },
        "id": "eZ3wgB1YL43d"
      },
      "outputs": [],
      "execution_count": null
    },
    {
      "cell_type": "code",
      "source": [
        "# Stunting: Severely Stunted -> 0, Stunted -> 1, Normal -> 2, Tall -> 3\n",
        "df['Stunting'] = df['Stunting'].map({\n",
        "    'Severely Stunted': 0,\n",
        "    'Stunted': 1,\n",
        "    'Normal': 2,\n",
        "    'Tall': 3\n",
        "})"
      ],
      "metadata": {
        "trusted": true,
        "execution": {
          "iopub.status.busy": "2025-05-25T12:33:05.693402Z",
          "iopub.execute_input": "2025-05-25T12:33:05.693608Z",
          "iopub.status.idle": "2025-05-25T12:33:05.712144Z",
          "shell.execute_reply.started": "2025-05-25T12:33:05.693592Z",
          "shell.execute_reply": "2025-05-25T12:33:05.711572Z"
        },
        "id": "oGo5NQHTL43e"
      },
      "outputs": [],
      "execution_count": null
    },
    {
      "cell_type": "code",
      "source": [
        "# Pisahkan fitur dan label\n",
        "X = df[['Umur (bulan)', 'Jenis Kelamin', 'Tinggi Badan (cm)', 'Berat Badan (kg)']].values\n",
        "y = df['Stunting'].values"
      ],
      "metadata": {
        "trusted": true,
        "execution": {
          "iopub.status.busy": "2025-05-25T12:33:05.712865Z",
          "iopub.execute_input": "2025-05-25T12:33:05.713051Z",
          "iopub.status.idle": "2025-05-25T12:33:05.741300Z",
          "shell.execute_reply.started": "2025-05-25T12:33:05.713037Z",
          "shell.execute_reply": "2025-05-25T12:33:05.740466Z"
        },
        "id": "PMXdIBmSL43f"
      },
      "outputs": [],
      "execution_count": null
    },
    {
      "cell_type": "code",
      "source": [
        "# Verifikasi bahwa X dan y tidak kosong\n",
        "print(\"Jumlah sampel X:\", len(X))\n",
        "print(\"Jumlah sampel y:\", len(y))\n",
        "if len(X) == 0 or len(y) == 0:\n",
        "    print(\"X atau y kosong. Periksa preprocessing atau encoding.\")\n",
        "    raise ValueError(\"X atau y kosong.\")"
      ],
      "metadata": {
        "trusted": true,
        "execution": {
          "iopub.status.busy": "2025-05-25T12:33:05.742481Z",
          "iopub.execute_input": "2025-05-25T12:33:05.742680Z",
          "iopub.status.idle": "2025-05-25T12:33:05.747384Z",
          "shell.execute_reply.started": "2025-05-25T12:33:05.742665Z",
          "shell.execute_reply": "2025-05-25T12:33:05.746651Z"
        },
        "colab": {
          "base_uri": "https://localhost:8080/"
        },
        "id": "7NFyP_f5L43g",
        "outputId": "5cfa506b-300f-4bcc-f127-bb5f076404a7"
      },
      "outputs": [
        {
          "output_type": "stream",
          "name": "stdout",
          "text": [
            "Jumlah sampel X: 100250\n",
            "Jumlah sampel y: 100250\n"
          ]
        }
      ],
      "execution_count": null
    },
    {
      "cell_type": "code",
      "source": [
        "# Split data: 80% pelatihan, 10% validasi, 10% pengujian\n",
        "X_train, X_temp, y_train, y_temp = train_test_split(X, y, test_size=0.2, random_state=42, stratify=y)\n",
        "X_val, X_test, y_val, y_test = train_test_split(X_temp, y_temp, test_size=0.5, random_state=42, stratify=y_temp)\n"
      ],
      "metadata": {
        "trusted": true,
        "execution": {
          "iopub.status.busy": "2025-05-25T12:33:05.748179Z",
          "iopub.execute_input": "2025-05-25T12:33:05.748434Z",
          "iopub.status.idle": "2025-05-25T12:33:05.833852Z",
          "shell.execute_reply.started": "2025-05-25T12:33:05.748419Z",
          "shell.execute_reply": "2025-05-25T12:33:05.833233Z"
        },
        "id": "02SlzVCiL43h"
      },
      "outputs": [],
      "execution_count": null
    },
    {
      "cell_type": "code",
      "source": [
        "# Normalisasi fitur\n",
        "scaler = StandardScaler()\n",
        "X_train = scaler.fit_transform(X_train)\n",
        "X_val = scaler.transform(X_val)\n",
        "X_test = scaler.transform(X_test)"
      ],
      "metadata": {
        "trusted": true,
        "execution": {
          "iopub.status.busy": "2025-05-25T12:33:05.834626Z",
          "iopub.execute_input": "2025-05-25T12:33:05.834876Z",
          "iopub.status.idle": "2025-05-25T12:33:05.917269Z",
          "shell.execute_reply.started": "2025-05-25T12:33:05.834853Z",
          "shell.execute_reply": "2025-05-25T12:33:05.916632Z"
        },
        "id": "h9mnqfOvL43h"
      },
      "outputs": [],
      "execution_count": null
    },
    {
      "cell_type": "code",
      "source": [
        "# Simpan parameter normalisasi\n",
        "mean_values = scaler.mean_\n",
        "std_values = scaler.scale_\n",
        "np.save('scaler_mean.npy', mean_values)\n",
        "np.save('scaler_std.npy', std_values)\n",
        "print('Scaler parameters saved as scaler_mean.npy and scaler_std.npy')"
      ],
      "metadata": {
        "trusted": true,
        "execution": {
          "iopub.status.busy": "2025-05-25T12:33:05.917962Z",
          "iopub.execute_input": "2025-05-25T12:33:05.918236Z",
          "iopub.status.idle": "2025-05-25T12:33:05.923413Z",
          "shell.execute_reply.started": "2025-05-25T12:33:05.918211Z",
          "shell.execute_reply": "2025-05-25T12:33:05.922674Z"
        },
        "colab": {
          "base_uri": "https://localhost:8080/"
        },
        "id": "HclPiH0jL43h",
        "outputId": "a1909288-a981-421f-e222-220478ca3aa3"
      },
      "outputs": [
        {
          "output_type": "stream",
          "name": "stdout",
          "text": [
            "Scaler parameters saved as scaler_mean.npy and scaler_std.npy\n"
          ]
        }
      ],
      "execution_count": null
    },
    {
      "cell_type": "code",
      "source": [
        "from imblearn.over_sampling import SMOTE\n",
        "# Tangani ketidakseimbangan kelas dengan SMOTE (opsional)\n",
        "smote = SMOTE(random_state=42)\n",
        "X_train, y_train = smote.fit_resample(X_train, y_train)\n",
        "print('Jumlah sampel setelah SMOTE:', X_train.shape[0])"
      ],
      "metadata": {
        "trusted": true,
        "execution": {
          "iopub.status.busy": "2025-05-25T12:33:05.924258Z",
          "iopub.execute_input": "2025-05-25T12:33:05.924513Z",
          "iopub.status.idle": "2025-05-25T12:33:06.543654Z",
          "shell.execute_reply.started": "2025-05-25T12:33:05.924492Z",
          "shell.execute_reply": "2025-05-25T12:33:06.542957Z"
        },
        "colab": {
          "base_uri": "https://localhost:8080/"
        },
        "id": "Z6I_EGejL43i",
        "outputId": "bb5a8941-b648-4522-87fc-094c04e0c959"
      },
      "outputs": [
        {
          "output_type": "stream",
          "name": "stdout",
          "text": [
            "Jumlah sampel setelah SMOTE: 231400\n"
          ]
        }
      ],
      "execution_count": null
    },
    {
      "cell_type": "code",
      "source": [
        "# --- 3. Pembuatan Model Neural Network ---\n",
        "model = Sequential([\n",
        "    Dense(64, activation='relu', input_shape=(4,)),  # Input: umur, jenis kelamin, tinggi, berat\n",
        "    Dense(32, activation='relu'),\n",
        "    Dense(16, activation='relu'),\n",
        "    Dense(4, activation='softmax')  # Output: Severely Stunted, Stunted, Normal, Tall\n",
        "])\n"
      ],
      "metadata": {
        "trusted": true,
        "execution": {
          "iopub.status.busy": "2025-05-25T12:33:06.544418Z",
          "iopub.execute_input": "2025-05-25T12:33:06.545021Z",
          "iopub.status.idle": "2025-05-25T12:33:08.805773Z",
          "shell.execute_reply.started": "2025-05-25T12:33:06.545000Z",
          "shell.execute_reply": "2025-05-25T12:33:08.805219Z"
        },
        "colab": {
          "base_uri": "https://localhost:8080/"
        },
        "id": "PjLuoR8ZL43i",
        "outputId": "c2211265-0589-4adc-fa4c-99c2dcb3e3d1"
      },
      "outputs": [
        {
          "output_type": "stream",
          "name": "stderr",
          "text": [
            "/usr/local/lib/python3.11/dist-packages/keras/src/layers/core/dense.py:87: UserWarning: Do not pass an `input_shape`/`input_dim` argument to a layer. When using Sequential models, prefer using an `Input(shape)` object as the first layer in the model instead.\n",
            "  super().__init__(activity_regularizer=activity_regularizer, **kwargs)\n"
          ]
        }
      ],
      "execution_count": null
    },
    {
      "cell_type": "code",
      "source": [
        "# Kompilasi model\n",
        "model.compile(\n",
        "    optimizer='adam',\n",
        "    loss='sparse_categorical_crossentropy',\n",
        "    metrics=['accuracy']\n",
        ")"
      ],
      "metadata": {
        "trusted": true,
        "execution": {
          "iopub.status.busy": "2025-05-25T12:33:08.806482Z",
          "iopub.execute_input": "2025-05-25T12:33:08.806698Z",
          "iopub.status.idle": "2025-05-25T12:33:08.818911Z",
          "shell.execute_reply.started": "2025-05-25T12:33:08.806681Z",
          "shell.execute_reply": "2025-05-25T12:33:08.818216Z"
        },
        "id": "spOLT37kL43j"
      },
      "outputs": [],
      "execution_count": null
    },
    {
      "cell_type": "code",
      "source": [
        "# --- 4. Pelatihan Model ---\n",
        "early_stopping = tf.keras.callbacks.EarlyStopping(\n",
        "    monitor='val_loss',\n",
        "    patience=10,\n",
        "    restore_best_weights=True\n",
        ")\n"
      ],
      "metadata": {
        "trusted": true,
        "execution": {
          "iopub.status.busy": "2025-05-25T12:33:08.819716Z",
          "iopub.execute_input": "2025-05-25T12:33:08.819917Z",
          "iopub.status.idle": "2025-05-25T12:33:08.823895Z",
          "shell.execute_reply.started": "2025-05-25T12:33:08.819895Z",
          "shell.execute_reply": "2025-05-25T12:33:08.823146Z"
        },
        "id": "NXmQzx4sL43j"
      },
      "outputs": [],
      "execution_count": null
    },
    {
      "cell_type": "code",
      "source": [
        "history = model.fit(\n",
        "    X_train, y_train,\n",
        "    validation_data=(X_val, y_val),\n",
        "    epochs=10,\n",
        "    batch_size=64,\n",
        "    callbacks=[early_stopping],\n",
        "    verbose=1\n",
        ")"
      ],
      "metadata": {
        "trusted": true,
        "execution": {
          "iopub.status.busy": "2025-05-25T12:33:08.824629Z",
          "iopub.execute_input": "2025-05-25T12:33:08.824848Z",
          "iopub.status.idle": "2025-05-25T12:42:13.471791Z",
          "shell.execute_reply.started": "2025-05-25T12:33:08.824828Z",
          "shell.execute_reply": "2025-05-25T12:42:13.471210Z"
        },
        "colab": {
          "base_uri": "https://localhost:8080/"
        },
        "id": "cD9pU4zdL43j",
        "outputId": "792ef802-c6df-4c49-c6fd-5467cf98ed0d"
      },
      "outputs": [
        {
          "output_type": "stream",
          "name": "stdout",
          "text": [
            "Epoch 1/10\n",
            "\u001b[1m3616/3616\u001b[0m \u001b[32m━━━━━━━━━━━━━━━━━━━━\u001b[0m\u001b[37m\u001b[0m \u001b[1m9s\u001b[0m 2ms/step - accuracy: 0.8414 - loss: 0.4031 - val_accuracy: 0.9325 - val_loss: 0.1595\n",
            "Epoch 2/10\n",
            "\u001b[1m3616/3616\u001b[0m \u001b[32m━━━━━━━━━━━━━━━━━━━━\u001b[0m\u001b[37m\u001b[0m \u001b[1m10s\u001b[0m 2ms/step - accuracy: 0.9712 - loss: 0.0809 - val_accuracy: 0.9586 - val_loss: 0.0886\n",
            "Epoch 3/10\n",
            "\u001b[1m3616/3616\u001b[0m \u001b[32m━━━━━━━━━━━━━━━━━━━━\u001b[0m\u001b[37m\u001b[0m \u001b[1m7s\u001b[0m 2ms/step - accuracy: 0.9769 - loss: 0.0660 - val_accuracy: 0.9648 - val_loss: 0.0798\n",
            "Epoch 4/10\n",
            "\u001b[1m3616/3616\u001b[0m \u001b[32m━━━━━━━━━━━━━━━━━━━━\u001b[0m\u001b[37m\u001b[0m \u001b[1m11s\u001b[0m 2ms/step - accuracy: 0.9792 - loss: 0.0582 - val_accuracy: 0.9416 - val_loss: 0.1523\n",
            "Epoch 5/10\n",
            "\u001b[1m3616/3616\u001b[0m \u001b[32m━━━━━━━━━━━━━━━━━━━━\u001b[0m\u001b[37m\u001b[0m \u001b[1m8s\u001b[0m 2ms/step - accuracy: 0.9801 - loss: 0.0555 - val_accuracy: 0.9753 - val_loss: 0.0638\n",
            "Epoch 6/10\n",
            "\u001b[1m3616/3616\u001b[0m \u001b[32m━━━━━━━━━━━━━━━━━━━━\u001b[0m\u001b[37m\u001b[0m \u001b[1m9s\u001b[0m 2ms/step - accuracy: 0.9807 - loss: 0.0529 - val_accuracy: 0.9820 - val_loss: 0.0448\n",
            "Epoch 7/10\n",
            "\u001b[1m3616/3616\u001b[0m \u001b[32m━━━━━━━━━━━━━━━━━━━━\u001b[0m\u001b[37m\u001b[0m \u001b[1m8s\u001b[0m 2ms/step - accuracy: 0.9810 - loss: 0.0532 - val_accuracy: 0.9714 - val_loss: 0.0616\n",
            "Epoch 8/10\n",
            "\u001b[1m3616/3616\u001b[0m \u001b[32m━━━━━━━━━━━━━━━━━━━━\u001b[0m\u001b[37m\u001b[0m \u001b[1m8s\u001b[0m 2ms/step - accuracy: 0.9812 - loss: 0.0519 - val_accuracy: 0.9705 - val_loss: 0.0774\n",
            "Epoch 9/10\n",
            "\u001b[1m3616/3616\u001b[0m \u001b[32m━━━━━━━━━━━━━━━━━━━━\u001b[0m\u001b[37m\u001b[0m \u001b[1m7s\u001b[0m 2ms/step - accuracy: 0.9824 - loss: 0.0481 - val_accuracy: 0.9739 - val_loss: 0.0619\n",
            "Epoch 10/10\n",
            "\u001b[1m3616/3616\u001b[0m \u001b[32m━━━━━━━━━━━━━━━━━━━━\u001b[0m\u001b[37m\u001b[0m \u001b[1m11s\u001b[0m 2ms/step - accuracy: 0.9821 - loss: 0.0494 - val_accuracy: 0.9808 - val_loss: 0.0432\n"
          ]
        }
      ],
      "execution_count": null
    },
    {
      "cell_type": "code",
      "source": [
        "# --- 5. Evaluasi Model ---\n",
        "test_loss, test_accuracy = model.evaluate(X_test, y_test, verbose=0)\n",
        "y_pred = np.argmax(model.predict(X_test), axis=1)\n",
        "f1 = f1_score(y_test, y_pred, average='weighted')\n",
        "\n",
        "print(f'Akurasi Pengujian: {test_accuracy:.4f}')\n",
        "print(f'F1-Score Pengujian: {f1:.4f}')"
      ],
      "metadata": {
        "trusted": true,
        "execution": {
          "iopub.status.busy": "2025-05-25T12:42:13.473180Z",
          "iopub.execute_input": "2025-05-25T12:42:13.473448Z",
          "iopub.status.idle": "2025-05-25T12:42:15.653575Z",
          "shell.execute_reply.started": "2025-05-25T12:42:13.473429Z",
          "shell.execute_reply": "2025-05-25T12:42:15.652732Z"
        },
        "colab": {
          "base_uri": "https://localhost:8080/"
        },
        "id": "mIr1lJG1L43k",
        "outputId": "552c702a-1f6f-45ea-fcfe-ae3339448510"
      },
      "outputs": [
        {
          "output_type": "stream",
          "name": "stdout",
          "text": [
            "\u001b[1m314/314\u001b[0m \u001b[32m━━━━━━━━━━━━━━━━━━━━\u001b[0m\u001b[37m\u001b[0m \u001b[1m1s\u001b[0m 2ms/step\n",
            "Akurasi Pengujian: 0.9802\n",
            "F1-Score Pengujian: 0.9805\n"
          ]
        }
      ],
      "execution_count": null
    },
    {
      "cell_type": "code",
      "source": [
        "# --- 6. Eksport Model ---\n",
        "model.save('stunting_model.h5')"
      ],
      "metadata": {
        "trusted": true,
        "execution": {
          "iopub.status.busy": "2025-05-25T12:42:15.656700Z",
          "iopub.execute_input": "2025-05-25T12:42:15.656929Z",
          "iopub.status.idle": "2025-05-25T12:42:15.692957Z",
          "shell.execute_reply.started": "2025-05-25T12:42:15.656912Z",
          "shell.execute_reply": "2025-05-25T12:42:15.692206Z"
        },
        "colab": {
          "base_uri": "https://localhost:8080/"
        },
        "id": "pnsSa8W9L43k",
        "outputId": "6d49f0a6-8a1a-4a6e-ec33-56df0c5a9522"
      },
      "outputs": [
        {
          "output_type": "stream",
          "name": "stderr",
          "text": [
            "WARNING:absl:You are saving your model as an HDF5 file via `model.save()` or `keras.saving.save_model(model)`. This file format is considered legacy. We recommend using instead the native Keras format, e.g. `model.save('my_model.keras')` or `keras.saving.save_model(model, 'my_model.keras')`. \n"
          ]
        }
      ],
      "execution_count": null
    },
    {
      "cell_type": "code",
      "source": [
        "# --- 7. Kode Inferensi Sederhana ---\n",
        "def predict_stunting(age, gender, height, weight, model_path='stunting_model.h5', mean_path='scaler_mean.npy', std_path='scaler_std.npy'):\n",
        "    \"\"\"\n",
        "    Memprediksi status stunting dan memberikan rekomendasi gizi.\n",
        "\n",
        "    Input:\n",
        "        age (float): Umur dalam bulan\n",
        "        gender (str): 'Laki-laki' atau 'Perempuan'\n",
        "        height (float): Tinggi badan dalam cm\n",
        "        weight (float): Berat badan dalam kg\n",
        "        model_path (str): Lokasi file model (.h5)\n",
        "        mean_path (str): Lokasi file mean untuk normalisasi (.npy)\n",
        "        std_path (str): Lokasi file standar deviasi untuk normalisasi (.npy)\n",
        "\n",
        "    Output:\n",
        "        dict: Status stunting dan rekomendasi gizi\n",
        "    \"\"\"\n",
        "    # Muat model\n",
        "    model = tf.keras.models.load_model(model_path)\n",
        "\n",
        "    # Muat parameter normalisasi\n",
        "    mean_values = np.load(mean_path)\n",
        "    std_values = np.load(std_path)\n",
        "\n",
        "    # Encode gender: 'Laki-laki' -> 0, 'Perempuan' -> 1\n",
        "    gender_encoded = 0 if gender == 'Laki-laki' else 1\n",
        "\n",
        "    # Siapkan data masukan\n",
        "    input_data = np.array([[age, gender_encoded, height, weight]], dtype=np.float32)\n",
        "\n",
        "    # Normalisasi data masukan\n",
        "    input_data = (input_data - mean_values) / std_values\n",
        "\n",
        "    # Lakukan prediksi\n",
        "    prediction = model.predict(input_data)\n",
        "    predicted_class_index = np.argmax(prediction, axis=1)[0]\n",
        "\n",
        "    # Mapping indeks ke label\n",
        "    labels = ['Severely Stunted', 'Stunted', 'Normal', 'Tall']\n",
        "    stunting_status = labels[predicted_class_index]\n",
        "\n",
        "    # Dapatkan rekomendasi gizi\n",
        "    nutrition_recommendation = get_nutrition_recommendation(stunting_status, age)\n",
        "\n",
        "    return {\n",
        "        'stunting_status': stunting_status,\n",
        "        'nutrition_recommendation': nutrition_recommendation\n",
        "    }"
      ],
      "metadata": {
        "trusted": true,
        "execution": {
          "iopub.status.busy": "2025-05-25T12:42:21.357518Z",
          "iopub.execute_input": "2025-05-25T12:42:21.358063Z",
          "iopub.status.idle": "2025-05-25T12:42:21.364041Z",
          "shell.execute_reply.started": "2025-05-25T12:42:21.358038Z",
          "shell.execute_reply": "2025-05-25T12:42:21.363254Z"
        },
        "id": "tobzPEgHL43k"
      },
      "outputs": [],
      "execution_count": null
    },
    {
      "cell_type": "code",
      "source": [
        "# --- 8. Rekomendasi Gizi (Rule-Based) ---\n",
        "def get_nutrition_recommendation(stunting_status, age):\n",
        "    \"\"\"\n",
        "    Memberikan rekomendasi gizi berdasarkan status stunting dan usia anak.\n",
        "    \"\"\"\n",
        "    recommendations = {\n",
        "        'Severely Stunted': {\n",
        "            'description': 'Anak mengalami stunting berat. Perlu intervensi gizi intensif dan konsultasi medis.',\n",
        "            'food': ['Susu tinggi protein (sesuai usia)', 'Bubur kacang hijau', 'Telur rebus', 'Ikan salmon/teri', 'Sayur bayam'],\n",
        "            'frequency': '6-8 kali/hari (porsi kecil, 50-100g per porsi)',\n",
        "            'supplements': 'Konsultasi dokter untuk suplemen zat besi, zinc, dan vitamin A.',\n",
        "            'notes': 'Pantau berat dan tinggi setiap 2 minggu. Libatkan puskesmas.'\n",
        "        },\n",
        "        'Stunted': {\n",
        "            'description': 'Anak mengalami stunting ringan. Perbaikan gizi diperlukan untuk pertumbuhan optimal.',\n",
        "            'food': ['Susu full cream', 'Nasi tim dengan ayam', 'Tempe goreng', 'Brokoli kukus', 'Pisang'],\n",
        "            'frequency': '5-6 kali/hari (porsi sedang, 100-150g per porsi)',\n",
        "            'supplements': 'Multivitamin anak (dosis sesuai usia).',\n",
        "            'notes': 'Tingkatkan asupan protein dan kalori. Konsultasi gizi jika tidak membaik dalam 1 bulan.'\n",
        "        },\n",
        "        'Normal': {\n",
        "            'description': 'Pertumbuhan anak normal. Pertahankan pola makan seimbang.',\n",
        "            'food': ['Nasi/ubi', 'Ayam/daging sapi', 'Sayur kolplay', 'Tahu', 'Buah apel'],\n",
        "            'frequency': '4-5 kali/hari (porsi sesuai usia, 150-200g per porsi)',\n",
        "            'supplements': 'Tidak diperlukan kecuali defisiensi spesifik.',\n",
        "            'notes': 'Pastikan variasi makanan dan aktivitas fisik cukup.'\n",
        "        },\n",
        "        'Tall': {\n",
        "            'description': 'Anak memiliki pertumbuhan di atas rata-rata. Pastikan gizi seimbang untuk mendukung perkembangan.',\n",
        "            'food': ['Roti gandum', 'Ikan tuna', 'Kacang almond', 'Wortel', 'Mangga'],\n",
        "            'frequency': '4-5 kali/hari (porsi sesuai usia, 150-200g per porsi)',\n",
        "            'supplements': 'Tidak diperlukan kecuali aktivitas fisik tinggi.',\n",
        "            'notes': 'Monitor BMI untuk mencegah obesitas.'\n",
        "        }\n",
        "    }\n",
        "\n",
        "    # Sesuaikan untuk anak <6 bulan\n",
        "    if age < 6:\n",
        "        recommendations['Severely Stunted']['food'] = ['ASI eksklusif atau susu formula khusus']\n",
        "        recommendations['Severely Stunted']['frequency'] = '8-12 kali/hari (sesuai kebutuhan)'\n",
        "        recommendations['Stunted']['food'] = ['ASI eksklusif atau susu formula']\n",
        "        recommendations['Stunted']['frequency'] = '8-12 kali/hari'\n",
        "\n",
        "    return recommendations.get(stunting_status, {\n",
        "        'description': 'Status tidak dikenali.',\n",
        "        'food': [],\n",
        "        'frequency': '',\n",
        "        'supplements': '',\n",
        "        'notes': ''\n",
        "    })"
      ],
      "metadata": {
        "trusted": true,
        "execution": {
          "iopub.status.busy": "2025-05-25T12:42:21.365018Z",
          "iopub.execute_input": "2025-05-25T12:42:21.365534Z",
          "iopub.status.idle": "2025-05-25T12:42:21.391303Z",
          "shell.execute_reply.started": "2025-05-25T12:42:21.365502Z",
          "shell.execute_reply": "2025-05-25T12:42:21.390672Z"
        },
        "id": "ew_SDgXNL43l"
      },
      "outputs": [],
      "execution_count": null
    },
    {
      "cell_type": "code",
      "source": [
        "result = predict_stunting(age=20, gender='Perempuan', height=100, weight=60)\n",
        "\n",
        "print(\"=== HASIL INFERENSI STATUS STUNTING ===\")\n",
        "print(f\"Status: {result['stunting_status']}\")\n",
        "print(\"\\n--- Rekomendasi Gizi ---\")\n",
        "print(f\"Deskripsi: {result['nutrition_recommendation']['description']}\")\n",
        "print(f\"Makanan yang Dianjurkan: {', '.join(result['nutrition_recommendation']['food'])}\")\n",
        "print(f\"Frekuensi Makan: {result['nutrition_recommendation']['frequency']}\")\n",
        "print(f\"Suplemen: {result['nutrition_recommendation']['supplements']}\")\n",
        "print(f\"Catatan: {result['nutrition_recommendation']['notes']}\")\n"
      ],
      "metadata": {
        "trusted": true,
        "execution": {
          "iopub.status.busy": "2025-05-25T12:42:21.392217Z",
          "iopub.execute_input": "2025-05-25T12:42:21.392483Z",
          "iopub.status.idle": "2025-05-25T12:42:21.776034Z",
          "shell.execute_reply.started": "2025-05-25T12:42:21.392466Z",
          "shell.execute_reply": "2025-05-25T12:42:21.775268Z"
        },
        "colab": {
          "base_uri": "https://localhost:8080/"
        },
        "id": "XedEKzVmL43l",
        "outputId": "d7674679-68e6-4166-8ffa-1237bcdfc7e1"
      },
      "outputs": [
        {
          "output_type": "stream",
          "name": "stderr",
          "text": [
            "WARNING:absl:Compiled the loaded model, but the compiled metrics have yet to be built. `model.compile_metrics` will be empty until you train or evaluate the model.\n"
          ]
        },
        {
          "output_type": "stream",
          "name": "stdout",
          "text": [
            "\u001b[1m1/1\u001b[0m \u001b[32m━━━━━━━━━━━━━━━━━━━━\u001b[0m\u001b[37m\u001b[0m \u001b[1m0s\u001b[0m 113ms/step\n",
            "=== HASIL INFERENSI STATUS STUNTING ===\n",
            "Status: Normal\n",
            "\n",
            "--- Rekomendasi Gizi ---\n",
            "Deskripsi: Pertumbuhan anak normal. Pertahankan pola makan seimbang.\n",
            "Makanan yang Dianjurkan: Nasi/ubi, Ayam/daging sapi, Sayur kolplay, Tahu, Buah apel\n",
            "Frekuensi Makan: 4-5 kali/hari (porsi sesuai usia, 150-200g per porsi)\n",
            "Suplemen: Tidak diperlukan kecuali defisiensi spesifik.\n",
            "Catatan: Pastikan variasi makanan dan aktivitas fisik cukup.\n"
          ]
        }
      ],
      "execution_count": null
    }
  ]
}